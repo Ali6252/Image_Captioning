{
 "cells": [
  {
   "cell_type": "code",
   "execution_count": 31,
   "id": "3ff96f58-245c-40e7-88fd-266dd595289b",
   "metadata": {},
   "outputs": [],
   "source": [
    "from keras.layers import Dense,LSTM,Input,Concatenate,Embedding,add,Dropout\n",
    "from keras.models import Model,Sequential\n",
    "from keras.optimizers import Adam\n",
    "from keras.preprocessing.sequence import pad_sequences\n",
    "import string\n",
    "import numpy as np\n",
    "import pandas as pd\n",
    "import matplotlib.pyplot as pl\n",
    "import keras\n",
    "import json\n",
    "from tqdm import tqdm\n",
    "from sklearn.model_selection import train_test_split\n",
    "from sklearn.feature_extraction.text import TfidfVectorizer\n",
    "from keras.applications.inception_v3 import preprocess_input\n",
    "from keras.preprocessing.image import load_img\n",
    "from keras.preprocessing.image import img_to_array\n",
    "from keras.preprocessing.image import array_to_img"
   ]
  },
  {
   "cell_type": "code",
   "execution_count": 32,
   "id": "11f616f0-de2b-431e-8fac-e27df5574bcc",
   "metadata": {},
   "outputs": [
    {
     "name": "stdout",
     "output_type": "stream",
     "text": [
      "(40455, 2)\n"
     ]
    },
    {
     "data": {
      "text/html": [
       "<div>\n",
       "<style scoped>\n",
       "    .dataframe tbody tr th:only-of-type {\n",
       "        vertical-align: middle;\n",
       "    }\n",
       "\n",
       "    .dataframe tbody tr th {\n",
       "        vertical-align: top;\n",
       "    }\n",
       "\n",
       "    .dataframe thead th {\n",
       "        text-align: right;\n",
       "    }\n",
       "</style>\n",
       "<table border=\"1\" class=\"dataframe\">\n",
       "  <thead>\n",
       "    <tr style=\"text-align: right;\">\n",
       "      <th></th>\n",
       "      <th>image</th>\n",
       "      <th>caption</th>\n",
       "    </tr>\n",
       "  </thead>\n",
       "  <tbody>\n",
       "    <tr>\n",
       "      <th>0</th>\n",
       "      <td>1000268201_693b08cb0e.jpg</td>\n",
       "      <td>A child in a pink dress is climbing up a set o...</td>\n",
       "    </tr>\n",
       "    <tr>\n",
       "      <th>1</th>\n",
       "      <td>1000268201_693b08cb0e.jpg</td>\n",
       "      <td>A girl going into a wooden building .</td>\n",
       "    </tr>\n",
       "    <tr>\n",
       "      <th>2</th>\n",
       "      <td>1000268201_693b08cb0e.jpg</td>\n",
       "      <td>A little girl climbing into a wooden playhouse .</td>\n",
       "    </tr>\n",
       "    <tr>\n",
       "      <th>3</th>\n",
       "      <td>1000268201_693b08cb0e.jpg</td>\n",
       "      <td>A little girl climbing the stairs to her playh...</td>\n",
       "    </tr>\n",
       "    <tr>\n",
       "      <th>4</th>\n",
       "      <td>1000268201_693b08cb0e.jpg</td>\n",
       "      <td>A little girl in a pink dress going into a woo...</td>\n",
       "    </tr>\n",
       "  </tbody>\n",
       "</table>\n",
       "</div>"
      ],
      "text/plain": [
       "                       image  \\\n",
       "0  1000268201_693b08cb0e.jpg   \n",
       "1  1000268201_693b08cb0e.jpg   \n",
       "2  1000268201_693b08cb0e.jpg   \n",
       "3  1000268201_693b08cb0e.jpg   \n",
       "4  1000268201_693b08cb0e.jpg   \n",
       "\n",
       "                                             caption  \n",
       "0  A child in a pink dress is climbing up a set o...  \n",
       "1              A girl going into a wooden building .  \n",
       "2   A little girl climbing into a wooden playhouse .  \n",
       "3  A little girl climbing the stairs to her playh...  \n",
       "4  A little girl in a pink dress going into a woo...  "
      ]
     },
     "execution_count": 32,
     "metadata": {},
     "output_type": "execute_result"
    }
   ],
   "source": [
    "data=pd.read_csv(\"captions.txt\",sep=\",\") #1k unique image repeated times ith different caption\n",
    "print(data.shape)\n",
    "data.head()"
   ]
  },
  {
   "cell_type": "code",
   "execution_count": 33,
   "id": "0b926614-190c-45d8-a7d3-de2fd1be5307",
   "metadata": {},
   "outputs": [
    {
     "data": {
      "text/plain": [
       "(8091,)"
      ]
     },
     "execution_count": 33,
     "metadata": {},
     "output_type": "execute_result"
    }
   ],
   "source": [
    "data[\"image\"].unique().shape"
   ]
  },
  {
   "cell_type": "code",
   "execution_count": 34,
   "id": "bded6938-23f5-469b-b17d-ed12f09ee85c",
   "metadata": {},
   "outputs": [
    {
     "data": {
      "text/plain": [
       "'A child in a pink dress is climbing up a set of stairs in an entry way .'"
      ]
     },
     "execution_count": 34,
     "metadata": {},
     "output_type": "execute_result"
    }
   ],
   "source": [
    "data[\"caption\"][0]"
   ]
  },
  {
   "cell_type": "code",
   "execution_count": 35,
   "id": "fa48aa42-9ee7-450c-870d-e98bba55df34",
   "metadata": {},
   "outputs": [],
   "source": [
    "X_train,X_test=train_test_split(data,test_size=0.2)"
   ]
  },
  {
   "cell_type": "code",
   "execution_count": 36,
   "id": "7464d3ad-cc30-4542-bb10-9be705cc0a6a",
   "metadata": {},
   "outputs": [
    {
     "data": {
      "text/plain": [
       "((8090,), (5466,))"
      ]
     },
     "execution_count": 36,
     "metadata": {},
     "output_type": "execute_result"
    }
   ],
   "source": [
    "X_train[\"image\"].unique().shape,X_test[\"image\"].unique().shape"
   ]
  },
  {
   "cell_type": "markdown",
   "id": "2236cd57-dc1e-458b-8a34-c9b14e3ef502",
   "metadata": {},
   "source": [
    "# Text preprocessing "
   ]
  },
  {
   "cell_type": "code",
   "execution_count": 37,
   "id": "398d4104-9997-417b-8eb2-83129009b377",
   "metadata": {},
   "outputs": [
    {
     "name": "stdout",
     "output_type": "stream",
     "text": [
      "There are 82570 words whose length is one in X_train\n",
      "There are 82570 words whose length is one in X_test\n"
     ]
    }
   ],
   "source": [
    "def check_words_of_length_one(df,st):\n",
    "    count=0\n",
    "    for i in X_train[\"caption\"].str.split(\" \"):\n",
    "        for j in i:\n",
    "            if len(j)==1:\n",
    "                count=count+1\n",
    "    print(\"There are {} words whose length is one in {}\".format(count,st))\n",
    "check_words_of_length_one(X_train,\"X_train\")\n",
    "check_words_of_length_one(X_test,\"X_test\")"
   ]
  },
  {
   "cell_type": "code",
   "execution_count": 38,
   "id": "b185af8c-d1c8-4774-808e-6404e6e6de44",
   "metadata": {},
   "outputs": [],
   "source": [
    "def remove_words_length1(text): #here text is list of words\n",
    "    for i in text:\n",
    "        if len(i)==1:\n",
    "            text.remove(i)\n",
    "    return \" \".join(text)\n",
    "\n",
    "def remove_words_occurs_lessthan_5(df):\n",
    "    tfidf=TfidfVectorizer(min_df=1) #min_df=5 means only considers words a index which occurs >= 5 and ignore <5\n",
    "    tfidf=tfidf.fit(df[\"caption\"])\n",
    "    words_occurs_more_than_5=tfidf.get_feature_names_out() #it gives array of words with words more than occuring 5 times\n",
    "    L=[]\n",
    "    for i in df[\"caption\"].str.split(\" \"): #this loop takes each row as list and check each word present in word_occurs_5 list and create the whole list of text\n",
    "        r=[]\n",
    "        for j in i:\n",
    "            if j in words_occurs_more_than_5:\n",
    "                r.append(j)\n",
    "        L.append(\" \".join(r))\n",
    "    return L\n",
    "    \n",
    "def remove_punctuation(text):\n",
    "    punctuation=string.punctuation\n",
    "    for i in punctuation:\n",
    "        text=text.replace(i,\"\")\n",
    "    return text\n",
    "def add_start_end(text):\n",
    "    text=\"start\"+\" \"+text\n",
    "    text=text+\" \"+\"end\"\n",
    "    return text\n",
    "def preprocessing_text(df):\n",
    "    df[\"caption\"]=df[\"caption\"].str.lower()  #converting to lower case\n",
    "    df[\"caption\"]=df[\"caption\"].apply(remove_punctuation) #removing punctuations\n",
    "    df[\"caption\"]=df[\"caption\"].str.replace(\"<.*>\",\"\",regex=True) #removing the html tags\n",
    "    df[\"caption\"]=df[\"caption\"].str.replace(\"https?://\\S+|www\\.\\S+\",\"\",regex=True) #removing the url\n",
    "    df[\"caption\"]=df[\"caption\"].str.strip() #removing extra spaces from the start and from the end\n",
    "    df[\"caption\"]=df[\"caption\"].str.split(\" \").apply(remove_words_length1) #remove words of length 1\n",
    "    df[\"caption\"]=remove_words_occurs_lessthan_5(df)\n",
    "    df[\"output\"]=df[\"caption\"].apply(add_start_end)\n",
    "preprocessing_text(X_train)\n",
    "preprocessing_text(X_test)"
   ]
  },
  {
   "cell_type": "code",
   "execution_count": 39,
   "id": "63d360f7-a69c-4f5c-9974-d9e349c83f76",
   "metadata": {},
   "outputs": [
    {
     "data": {
      "text/html": [
       "<div>\n",
       "<style scoped>\n",
       "    .dataframe tbody tr th:only-of-type {\n",
       "        vertical-align: middle;\n",
       "    }\n",
       "\n",
       "    .dataframe tbody tr th {\n",
       "        vertical-align: top;\n",
       "    }\n",
       "\n",
       "    .dataframe thead th {\n",
       "        text-align: right;\n",
       "    }\n",
       "</style>\n",
       "<table border=\"1\" class=\"dataframe\">\n",
       "  <thead>\n",
       "    <tr style=\"text-align: right;\">\n",
       "      <th></th>\n",
       "      <th>image</th>\n",
       "      <th>caption</th>\n",
       "      <th>output</th>\n",
       "    </tr>\n",
       "  </thead>\n",
       "  <tbody>\n",
       "    <tr>\n",
       "      <th>18661</th>\n",
       "      <td>3025334206_76888792e5.jpg</td>\n",
       "      <td>two dogs are running on the grass in front of ...</td>\n",
       "      <td>start two dogs are running on the grass in fro...</td>\n",
       "    </tr>\n",
       "  </tbody>\n",
       "</table>\n",
       "</div>"
      ],
      "text/plain": [
       "                           image  \\\n",
       "18661  3025334206_76888792e5.jpg   \n",
       "\n",
       "                                                 caption  \\\n",
       "18661  two dogs are running on the grass in front of ...   \n",
       "\n",
       "                                                  output  \n",
       "18661  start two dogs are running on the grass in fro...  "
      ]
     },
     "execution_count": 39,
     "metadata": {},
     "output_type": "execute_result"
    }
   ],
   "source": [
    "X_train.head(1)"
   ]
  },
  {
   "cell_type": "code",
   "execution_count": 40,
   "id": "de28d6ac-34a9-41da-9c99-2401765f7369",
   "metadata": {},
   "outputs": [
    {
     "data": {
      "text/plain": [
       "('two dogs are running on the grass in front of the trees',\n",
       " 'start two dogs are running on the grass in front of the trees end')"
      ]
     },
     "execution_count": 40,
     "metadata": {},
     "output_type": "execute_result"
    }
   ],
   "source": [
    "X_train[\"caption\"][18661],X_train[\"output\"][18661]"
   ]
  },
  {
   "cell_type": "code",
   "execution_count": 41,
   "id": "b6b595bf-e260-4c60-8262-684998c3f67e",
   "metadata": {},
   "outputs": [
    {
     "data": {
      "text/html": [
       "<div>\n",
       "<style scoped>\n",
       "    .dataframe tbody tr th:only-of-type {\n",
       "        vertical-align: middle;\n",
       "    }\n",
       "\n",
       "    .dataframe tbody tr th {\n",
       "        vertical-align: top;\n",
       "    }\n",
       "\n",
       "    .dataframe thead th {\n",
       "        text-align: right;\n",
       "    }\n",
       "</style>\n",
       "<table border=\"1\" class=\"dataframe\">\n",
       "  <thead>\n",
       "    <tr style=\"text-align: right;\">\n",
       "      <th></th>\n",
       "      <th>image</th>\n",
       "      <th>caption</th>\n",
       "      <th>output</th>\n",
       "    </tr>\n",
       "  </thead>\n",
       "  <tbody>\n",
       "    <tr>\n",
       "      <th>12378</th>\n",
       "      <td>2629334536_11f2d49e05.jpg</td>\n",
       "      <td>young person wearing shorts and blue top is sw...</td>\n",
       "      <td>start young person wearing shorts and blue top...</td>\n",
       "    </tr>\n",
       "  </tbody>\n",
       "</table>\n",
       "</div>"
      ],
      "text/plain": [
       "                           image  \\\n",
       "12378  2629334536_11f2d49e05.jpg   \n",
       "\n",
       "                                                 caption  \\\n",
       "12378  young person wearing shorts and blue top is sw...   \n",
       "\n",
       "                                                  output  \n",
       "12378  start young person wearing shorts and blue top...  "
      ]
     },
     "execution_count": 41,
     "metadata": {},
     "output_type": "execute_result"
    }
   ],
   "source": [
    "X_test.head(1)"
   ]
  },
  {
   "cell_type": "code",
   "execution_count": 42,
   "id": "1699887f-66fb-48f2-827b-329d38a312cd",
   "metadata": {},
   "outputs": [
    {
     "data": {
      "text/plain": [
       "('young person wearing shorts and blue top is swinging in child protector seat',\n",
       " 'start young person wearing shorts and blue top is swinging in child protector seat end')"
      ]
     },
     "execution_count": 42,
     "metadata": {},
     "output_type": "execute_result"
    }
   ],
   "source": [
    "X_test[\"caption\"][12378],X_test[\"output\"][12378]"
   ]
  },
  {
   "cell_type": "code",
   "execution_count": 44,
   "id": "c440d764-eb37-4fae-af32-5122bf6b70d5",
   "metadata": {},
   "outputs": [],
   "source": [
    "X_train.to_csv(\"Data\\\\train.csv\",columns=[\"image\",\"output\"],index=False)\n",
    "X_test.to_csv(\"Data\\\\test.csv\",columns=[\"image\",\"output\"],index=False)"
   ]
  },
  {
   "cell_type": "markdown",
   "id": "41f3aedc-410d-45b5-be69-0566ff94ff11",
   "metadata": {},
   "source": [
    "# lets create a word_to_idx dictionary and idx_to_word dictionary"
   ]
  },
  {
   "cell_type": "code",
   "execution_count": 45,
   "id": "80e547c5-0456-4153-966f-e36075d90ff7",
   "metadata": {},
   "outputs": [
    {
     "data": {
      "text/plain": [
       "(8082, 8082)"
      ]
     },
     "execution_count": 45,
     "metadata": {},
     "output_type": "execute_result"
    }
   ],
   "source": [
    "def word_index(df):\n",
    "    count=0\n",
    "    word_to_idx={}\n",
    "    for i in df[\"output\"]:\n",
    "        for j in i.split(\" \"):\n",
    "            if j not in word_to_idx:\n",
    "                word_to_idx[j]=count\n",
    "                count=count+1\n",
    "    idx_to_word={j:i for i,j in word_to_idx.items()}\n",
    "    return idx_to_word,word_to_idx\n",
    "idx_to_word,word_to_idx=word_index(X_train)\n",
    "vocab_size=len(idx_to_word) #length of unique words in our corpus\n",
    "len(idx_to_word),len(word_to_idx)"
   ]
  },
  {
   "cell_type": "code",
   "execution_count": 46,
   "id": "22109ef7-3e00-4f69-9d34-fb0c30504884",
   "metadata": {},
   "outputs": [],
   "source": [
    "with open('Data\\\\idx_to_word.json', 'w') as fp:\n",
    "        json.dump(idx_to_word, fp)\n",
    "with open('Data\\\\word_to_idx.json', 'w') as fp:\n",
    "        json.dump(word_to_idx, fp)"
   ]
  },
  {
   "cell_type": "code",
   "execution_count": null,
   "id": "6cc4f140-308f-438e-b054-21db5b70a852",
   "metadata": {},
   "outputs": [],
   "source": []
  },
  {
   "cell_type": "code",
   "execution_count": null,
   "id": "f7625335-d8a6-47ba-8eb5-998608d51a03",
   "metadata": {},
   "outputs": [],
   "source": []
  }
 ],
 "metadata": {
  "kernelspec": {
   "display_name": "Python 3 (ipykernel)",
   "language": "python",
   "name": "python3"
  },
  "language_info": {
   "codemirror_mode": {
    "name": "ipython",
    "version": 3
   },
   "file_extension": ".py",
   "mimetype": "text/x-python",
   "name": "python",
   "nbconvert_exporter": "python",
   "pygments_lexer": "ipython3",
   "version": "3.11.7"
  }
 },
 "nbformat": 4,
 "nbformat_minor": 5
}
